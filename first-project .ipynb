{
 "cells": [
  {
   "cell_type": "code",
   "execution_count": 32,
   "metadata": {},
   "outputs": [
    {
     "ename": "SyntaxError",
     "evalue": "invalid syntax (<ipython-input-32-433641bdc6d5>, line 19)",
     "output_type": "error",
     "traceback": [
      "\u001b[1;36m  File \u001b[1;32m\"<ipython-input-32-433641bdc6d5>\"\u001b[1;36m, line \u001b[1;32m19\u001b[0m\n\u001b[1;33m    file_one_df = \"Pinturas_Condor.xlsx\"\u001b[0m\n\u001b[1;37m    ^\u001b[0m\n\u001b[1;31mSyntaxError\u001b[0m\u001b[1;31m:\u001b[0m invalid syntax\n"
     ]
    }
   ],
   "source": [
    "# Dependencies and setup\n",
    "import pandas as pd \n",
    "import numpy as np\n",
    "# import requests\n",
    "# import json\n",
    "\n",
    "# declaring URL\n",
    "url = \"https://ourworldindata.org/grapher/week-by-week-change-of-covid-cases-vs-gdp-per-capita\"\n",
    "\n",
    "# requesting url \n",
    "requests.get(f\"{url}ourworldindata.org/grapher/week-by-week-change-of-covid-cases-vs-gdp-per-capita?format=json\").json()\n",
    "request = requests.get(f\"{url}ourworldindata.org/grapher/week-by-week-change-of-covid-cases-vs-gdp-per-capita?format=json\").json()\n",
    "\n",
    "print(request.get(url)\n",
    "      \n",
    "# Files to load \n",
    "\n",
    "file_one_df = \"Pinturas_Condor.xlsx\"\n",
    "file_two_df = \"Pinturas_Ecuatorianas.xlsx\"\n",
    "file_three_df = \"Pinturas_Unidas.xlsx\"\n",
    "\n",
    "\n",
    "\n",
    "# Reading files and store into Pandas data frame\n",
    "\n",
    "file_one_df = pd.read_excel(\"Pinturas_Condor.xlsx\")\n",
    "file_two_df = pd.read_excel(\"Pinturas_Ecuatorianas.xlsx\")\n",
    "file_three_df= pd.read_excel(\"Pinturas_Unidas.xlsx\")\n",
    "\n",
    "# Combining the data into a single dataset\n",
    "\n",
    "comb_data_df = pd.merge(file_one_df, file_two_df, how = 'inner', on = 'HTS', suffixes=(\"Condor\", \"Ecua\"))\n",
    "pd.merge(comb_data_df, file_three_df, how = 'inner', on = 'HTS')\n",
    "comb_data_df = pd.merge(comb_data_df, file_three_df, how = 'inner', on = 'HTS')\n",
    "\n",
    "# Display the data table for preview\n",
    "comb_data_df.head()\n"
   ]
  },
  {
   "cell_type": "code",
   "execution_count": null,
   "metadata": {},
   "outputs": [],
   "source": []
  },
  {
   "cell_type": "code",
   "execution_count": null,
   "metadata": {},
   "outputs": [],
   "source": []
  },
  {
   "cell_type": "code",
   "execution_count": null,
   "metadata": {},
   "outputs": [],
   "source": []
  }
 ],
 "metadata": {
  "kernelspec": {
   "display_name": "Python 3",
   "language": "python",
   "name": "python3"
  },
  "language_info": {
   "codemirror_mode": {
    "name": "ipython",
    "version": 3
   },
   "file_extension": ".py",
   "mimetype": "text/x-python",
   "name": "python",
   "nbconvert_exporter": "python",
   "pygments_lexer": "ipython3",
   "version": "3.8.5"
  }
 },
 "nbformat": 4,
 "nbformat_minor": 4
}
